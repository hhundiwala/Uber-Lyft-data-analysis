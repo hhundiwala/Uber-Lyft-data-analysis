{
 "cells": [
  {
   "cell_type": "markdown",
   "metadata": {},
   "source": [
    "##### Importing Libraries"
   ]
  },
  {
   "cell_type": "code",
   "execution_count": 23,
   "metadata": {
    "collapsed": true
   },
   "outputs": [],
   "source": [
    "import pandas as pd\n",
    "import warnings\n",
    "from sklearn.metrics import accuracy_score\n",
    "from sklearn.metrics import confusion_matrix\n",
    "from sklearn.model_selection import train_test_split\n",
    "warnings.filterwarnings(\"ignore\")"
   ]
  },
  {
   "cell_type": "markdown",
   "metadata": {},
   "source": [
    "##### Reading the .csv files"
   ]
  },
  {
   "cell_type": "code",
   "execution_count": 24,
   "metadata": {},
   "outputs": [
    {
     "name": "stdout",
     "output_type": "stream",
     "text": [
      "Reading dataset\n",
      "Dataset Read Successfully\n"
     ]
    }
   ],
   "source": [
    "print(\"Reading dataset\")\n",
    "#Reading the train and test data from the file and storing it in an object\n",
    "trainDataAug = pd.read_csv('/Users/hhundiwala/Documents/SPL/SPL Project/uber-raw-data-aug14.csv', sep=',',header=0,keep_default_na=False)\n",
    "trainDataSep = pd.read_csv('/Users/hhundiwala/Documents/SPL/SPL Project/uber-raw-data-sep14.csv', sep=',',header=0,keep_default_na=False)\n",
    "trainDataLyft = pd.read_csv('/Users/hhundiwala/Documents/SPL/SPL Project/other-Lyft.csv', sep=',',header=0,keep_default_na=False)\n",
    "print(\"Dataset Read Successfully\")"
   ]
  },
  {
   "cell_type": "markdown",
   "metadata": {},
   "source": [
    "###### Clean the Data.      (Remove na-values, normalise the data)"
   ]
  },
  {
   "cell_type": "code",
   "execution_count": 25,
   "metadata": {},
   "outputs": [],
   "source": [
    "#Cleaning the data\n",
    "trainDataAug = trainDataAug.dropna()\n",
    "trainDataSep = trainDataSep.dropna()\n",
    "trainDataLyft = trainDataLyft.dropna()"
   ]
  },
  {
   "cell_type": "markdown",
   "metadata": {},
   "source": [
    "##### Let's peek into our dataset"
   ]
  },
  {
   "cell_type": "code",
   "execution_count": 26,
   "metadata": {},
   "outputs": [
    {
     "name": "stdout",
     "output_type": "stream",
     "text": [
      "       Date/Time      Lat      Lon Taxi Service\n",
      "0  8/1/2014 0:03  40.7366 -73.9906         Uber\n",
      "1  8/1/2014 0:09  40.7260 -73.9918         Uber\n",
      "2  8/1/2014 0:12  40.7209 -74.0507         Uber\n",
      "3  8/1/2014 0:12  40.7387 -73.9856         Uber\n",
      "4  8/1/2014 0:12  40.7323 -74.0077         Uber\n"
     ]
    }
   ],
   "source": [
    "print(trainDataAug.head(5))"
   ]
  },
  {
   "cell_type": "code",
   "execution_count": 27,
   "metadata": {},
   "outputs": [
    {
     "name": "stdout",
     "output_type": "stream",
     "text": [
      "       Date/Time      Lat      Lon Taxi Service\n",
      "0  9/1/2014 0:01  40.2201 -74.0021         Uber\n",
      "1  9/1/2014 0:01  40.7500 -74.0027         Uber\n",
      "2  9/1/2014 0:03  40.7559 -73.9864         Uber\n",
      "3  9/1/2014 0:06  40.7450 -73.9889         Uber\n",
      "4  9/1/2014 0:11  40.8145 -73.9444         Uber\n"
     ]
    }
   ],
   "source": [
    "print(trainDataSep.head(5))"
   ]
  },
  {
   "cell_type": "code",
   "execution_count": 28,
   "metadata": {},
   "outputs": [
    {
     "name": "stdout",
     "output_type": "stream",
     "text": [
      "         Date/Time       Lat       Lon Taxi Service\n",
      "0    9/4/2014 9:51  40.64705 -73.77988         Lyft\n",
      "1  8/27/2014 21:13  40.74916 -73.98373         Lyft\n",
      "2   9/4/2014 14:16  40.64065 -73.97594         Lyft\n",
      "3   9/4/2014 16:08  40.75002 -73.99514         Lyft\n",
      "4   8/28/2014 2:41  40.76715 -73.98636         Lyft\n"
     ]
    }
   ],
   "source": [
    "print(trainDataLyft.head(5))"
   ]
  },
  {
   "cell_type": "code",
   "execution_count": 29,
   "metadata": {
    "collapsed": true
   },
   "outputs": [],
   "source": [
    "#merging the datasets of August, September, Lyft\n",
    "trainData = trainDataAug.append(trainDataLyft).append(trainDataSep)\n",
    "trainData[\"taxi_code\"] = trainData['Taxi Service'].map({'Uber':1,'Lyft':2})\n",
    "#Cleaning the data by removing the NA values\n",
    "trainData = trainData.dropna()\n",
    "\n",
    "\n",
    "trainData['Date/Time'] = pd.to_datetime(trainData['Date/Time'], infer_datetime_format =True)\n",
    "#print(trainData['Date/Time'][1])\n",
    "trainData['hour'] = trainData['Date/Time'].dt.hour\n",
    "plttrainData = trainData\n",
    "\n",
    "X = trainData[[\"Lat\",\"Lon\",\"hour\"]]\n",
    "y = trainData[[\"taxi_code\"]]"
   ]
  },
  {
   "cell_type": "markdown",
   "metadata": {},
   "source": [
    "#### Cleaned Data"
   ]
  },
  {
   "cell_type": "code",
   "execution_count": 30,
   "metadata": {},
   "outputs": [
    {
     "data": {
      "text/html": [
       "<div>\n",
       "<style>\n",
       "    .dataframe thead tr:only-child th {\n",
       "        text-align: right;\n",
       "    }\n",
       "\n",
       "    .dataframe thead th {\n",
       "        text-align: left;\n",
       "    }\n",
       "\n",
       "    .dataframe tbody tr th {\n",
       "        vertical-align: top;\n",
       "    }\n",
       "</style>\n",
       "<table border=\"1\" class=\"dataframe\">\n",
       "  <thead>\n",
       "    <tr style=\"text-align: right;\">\n",
       "      <th></th>\n",
       "      <th>Lat</th>\n",
       "      <th>Lon</th>\n",
       "      <th>hour</th>\n",
       "    </tr>\n",
       "  </thead>\n",
       "  <tbody>\n",
       "    <tr>\n",
       "      <th>0</th>\n",
       "      <td>40.7366</td>\n",
       "      <td>-73.9906</td>\n",
       "      <td>0</td>\n",
       "    </tr>\n",
       "    <tr>\n",
       "      <th>1</th>\n",
       "      <td>40.7260</td>\n",
       "      <td>-73.9918</td>\n",
       "      <td>0</td>\n",
       "    </tr>\n",
       "    <tr>\n",
       "      <th>2</th>\n",
       "      <td>40.7209</td>\n",
       "      <td>-74.0507</td>\n",
       "      <td>0</td>\n",
       "    </tr>\n",
       "    <tr>\n",
       "      <th>3</th>\n",
       "      <td>40.7387</td>\n",
       "      <td>-73.9856</td>\n",
       "      <td>0</td>\n",
       "    </tr>\n",
       "    <tr>\n",
       "      <th>4</th>\n",
       "      <td>40.7323</td>\n",
       "      <td>-74.0077</td>\n",
       "      <td>0</td>\n",
       "    </tr>\n",
       "    <tr>\n",
       "      <th>5</th>\n",
       "      <td>40.7349</td>\n",
       "      <td>-74.0033</td>\n",
       "      <td>0</td>\n",
       "    </tr>\n",
       "    <tr>\n",
       "      <th>6</th>\n",
       "      <td>40.7279</td>\n",
       "      <td>-73.9542</td>\n",
       "      <td>0</td>\n",
       "    </tr>\n",
       "    <tr>\n",
       "      <th>7</th>\n",
       "      <td>40.7210</td>\n",
       "      <td>-73.9937</td>\n",
       "      <td>0</td>\n",
       "    </tr>\n",
       "    <tr>\n",
       "      <th>8</th>\n",
       "      <td>40.7195</td>\n",
       "      <td>-74.0060</td>\n",
       "      <td>0</td>\n",
       "    </tr>\n",
       "    <tr>\n",
       "      <th>9</th>\n",
       "      <td>40.7448</td>\n",
       "      <td>-73.9799</td>\n",
       "      <td>0</td>\n",
       "    </tr>\n",
       "  </tbody>\n",
       "</table>\n",
       "</div>"
      ],
      "text/plain": [
       "       Lat      Lon  hour\n",
       "0  40.7366 -73.9906     0\n",
       "1  40.7260 -73.9918     0\n",
       "2  40.7209 -74.0507     0\n",
       "3  40.7387 -73.9856     0\n",
       "4  40.7323 -74.0077     0\n",
       "5  40.7349 -74.0033     0\n",
       "6  40.7279 -73.9542     0\n",
       "7  40.7210 -73.9937     0\n",
       "8  40.7195 -74.0060     0\n",
       "9  40.7448 -73.9799     0"
      ]
     },
     "execution_count": 30,
     "metadata": {},
     "output_type": "execute_result"
    }
   ],
   "source": [
    "X.head(10)"
   ]
  },
  {
   "cell_type": "markdown",
   "metadata": {},
   "source": [
    "#### Size of Data"
   ]
  },
  {
   "cell_type": "code",
   "execution_count": 31,
   "metadata": {},
   "outputs": [
    {
     "data": {
      "text/plain": [
       "(2125111, 3)"
      ]
     },
     "execution_count": 31,
     "metadata": {},
     "output_type": "execute_result"
    }
   ],
   "source": [
    "X.shape"
   ]
  },
  {
   "cell_type": "markdown",
   "metadata": {},
   "source": [
    "###### Aproximately 21 lakh rows"
   ]
  },
  {
   "cell_type": "markdown",
   "metadata": {},
   "source": [
    "#### Creating Machine Learning Algorithms"
   ]
  },
  {
   "cell_type": "code",
   "execution_count": 32,
   "metadata": {},
   "outputs": [
    {
     "name": "stdout",
     "output_type": "stream",
     "text": [
      "KMeans(algorithm='auto', copy_x=True, init='k-means++', max_iter=1000,\n",
      "    n_clusters=2, n_init=20, n_jobs=1, precompute_distances='auto',\n",
      "    random_state=None, tol=0.0001, verbose=0)\n",
      "Centroid:  [[ 40.73742832 -73.97071273  18.07582263]\n",
      " [ 40.73767718 -73.96960313   6.66918561]]\n",
      "Labels:  [0 0 0 ..., 0 1 1]\n",
      "Accuracy: \n",
      "0.317022349881\n",
      "Confusion matrix: \n",
      "[[     0 591996  65861]\n",
      " [     0 336854  67845]\n",
      " [     0      0      0]]\n"
     ]
    }
   ],
   "source": [
    "_train, X_test, y_train, y_test = train_test_split(X, y, test_size=0.5, random_state=42)\n",
    "\n",
    "from sklearn.cluster import KMeans\n",
    "\n",
    "for k in [2]:\n",
    "    uberCluster = KMeans(n_clusters=k, init='k-means++', n_init=20, max_iter=1000)\n",
    "    print(uberCluster)\n",
    "    model=uberCluster.fit(X_train, y_train)\n",
    "    predictions = model.predict(X_test)\n",
    "    #pred_cluster_centers = [uberCluster.cluster_centers_[i] for i in predictions]\n",
    "    centroids = uberCluster.cluster_centers_\n",
    "    print(\"Centroid: \" , centroids)\n",
    "    labels = uberCluster.labels_\n",
    "    print(\"Labels: \", labels)\n",
    "    #print(\"Score: \" + model.score(predictions))\n",
    "    print(\"Accuracy: \")\n",
    "    print( accuracy_score(predictions,y_test))\n",
    "    print(\"Confusion matrix: \")\n",
    "    print(confusion_matrix(predictions,y_test))"
   ]
  },
  {
   "cell_type": "markdown",
   "metadata": {},
   "source": [
    "#### Plotting the Data"
   ]
  },
  {
   "cell_type": "code",
   "execution_count": 33,
   "metadata": {},
   "outputs": [
    {
     "data": {
      "image/png": "[encoded data removed]",
      "text/plain": [
       "<matplotlib.figure.Figure at 0x1a0d57ccc0>"
      ]
     },
     "metadata": {},
     "output_type": "display_data"
    }
   ],
   "source": [
    "import matplotlib.pyplot as plt\n",
    "\n",
    "trainDataAug[\"taxi_code\"] = trainDataAug['Taxi Service'].map({'Uber':1,'Lyft':2})\n",
    "trainDataAug['Date/Time'] = pd.to_datetime(trainDataAug['Date/Time'], infer_datetime_format =True)\n",
    "#print(trainDataAug['Date/Time'][1])\n",
    "trainDataAug['hour'] = trainDataAug['Date/Time'].dt.hour\n",
    "                       \n",
    "trainDataSep[\"taxi_code\"] = trainDataSep['Taxi Service'].map({'Uber':1,'Lyft':2})\n",
    "trainDataSep['Date/Time'] = pd.to_datetime(trainDataSep['Date/Time'], infer_datetime_format =True)\n",
    "#print(trainDataAug['Date/Time'][1])\n",
    "trainDataSep['hour'] = trainDataSep['Date/Time'].dt.hour\n",
    "            \n",
    "#print(trainDataAug['hour'][1])\n",
    "\n",
    "trainDataLyft[\"taxi_code\"] = trainDataLyft['Taxi Service'].map({'Uber':1,'Lyft':2})\n",
    "trainDataLyft['Date/Time'] = pd.to_datetime(trainDataLyft['Date/Time'], infer_datetime_format =True)\n",
    "#print(trainDataLyft['Date/Time'][1])\n",
    "trainDataLyft['hour'] = trainDataLyft['Date/Time'].dt.hour\n",
    "             \n",
    "\n",
    "uberplot = trainDataAug[[\"Lat\",\"Lon\",\"taxi_code\"]]\n",
    "lyftplot = trainDataLyft[[\"Lat\",\"Lon\",\"taxi_code\"]]\n",
    "\n",
    "\n",
    "plt.title('Distribution of traffic in New York City as per Lyft and Uber')\n",
    "plt.xlabel('Latitude')\n",
    "plt.ylabel('Longitude')\n",
    "uberplt = plt.scatter(plttrainData[\"Lat\"][plttrainData['taxi_code'] == 1],plttrainData[\"Lon\"][plttrainData['taxi_code'] == 1],color='r',label=\"Uber\", s=2)\n",
    "lyftplt = plt.scatter(plttrainData[\"Lat\"][plttrainData['taxi_code'] == 2],plttrainData[\"Lon\"][plttrainData['taxi_code'] == 2],color='b',label=\"Lyft\", s=2)\n",
    "plt.scatter(centroids[:, 0], centroids[:, 1],marker='x', s=169, linewidths=3,color='white', zorder=10)\n",
    "plt.legend((uberplt, lyftplt), ('Uber','Lyft'), scatterpoints=1,loc='top left', ncol=1,fontsize=8)\n",
    "text = iter(['Uber', 'Lyft'])\n",
    "plt.show()"
   ]
  },
  {
   "cell_type": "code",
   "execution_count": null,
   "metadata": {
    "collapsed": true
   },
   "outputs": [],
   "source": []
  }
 ],
 "metadata": {
  "kernelspec": {
   "display_name": "Python 3",
   "language": "python",
   "name": "python3"
  },
  "language_info": {
   "codemirror_mode": {
    "name": "ipython",
    "version": 3
   },
   "file_extension": ".py",
   "mimetype": "text/x-python",
   "name": "python",
   "nbconvert_exporter": "python",
   "pygments_lexer": "ipython3",
   "version": "3.6.1"
  }
 },
 "nbformat": 4,
 "nbformat_minor": 2
}
